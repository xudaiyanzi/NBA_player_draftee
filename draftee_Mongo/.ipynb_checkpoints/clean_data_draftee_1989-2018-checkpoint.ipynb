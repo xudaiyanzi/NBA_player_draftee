{
 "cells": [
  {
   "cell_type": "code",
   "execution_count": 1,
   "metadata": {},
   "outputs": [],
   "source": [
    "import pandas as pd\n",
    "import numpy as np"
   ]
  },
  {
   "cell_type": "code",
   "execution_count": 2,
   "metadata": {},
   "outputs": [],
   "source": [
    "# import the data \".csv\" as dataframe\n",
    "draft_1980_2018_rough = pd.read_csv('Resources/1980_2018_draft.tsv', sep='\\t')"
   ]
  },
  {
   "cell_type": "code",
   "execution_count": 3,
   "metadata": {},
   "outputs": [],
   "source": [
    "# only look data after 1989-when the tradition of two-round picks begin\n",
    "# it is not necessary to include the 1980-1989 because players are not that old\n",
    "draft_1989_2018_rough = draft_1980_2018_rough[draft_1980_2018_rough[\"year\"]>=1989]"
   ]
  },
  {
   "cell_type": "code",
   "execution_count": 4,
   "metadata": {},
   "outputs": [
    {
     "data": {
      "text/plain": [
       "year        1745\n",
       "round       1745\n",
       "pick        1744\n",
       "player      1745\n",
       "position    1745\n",
       "school      1745\n",
       "dtype: int64"
      ]
     },
     "execution_count": 4,
     "metadata": {},
     "output_type": "execute_result"
    }
   ],
   "source": [
    "# check the data cleanness\n",
    "draft_1989_2018_rough.count()"
   ]
  },
  {
   "cell_type": "code",
   "execution_count": 5,
   "metadata": {},
   "outputs": [
    {
     "data": {
      "text/html": [
       "<div>\n",
       "<style scoped>\n",
       "    .dataframe tbody tr th:only-of-type {\n",
       "        vertical-align: middle;\n",
       "    }\n",
       "\n",
       "    .dataframe tbody tr th {\n",
       "        vertical-align: top;\n",
       "    }\n",
       "\n",
       "    .dataframe thead th {\n",
       "        text-align: right;\n",
       "    }\n",
       "</style>\n",
       "<table border=\"1\" class=\"dataframe\">\n",
       "  <thead>\n",
       "    <tr style=\"text-align: right;\">\n",
       "      <th></th>\n",
       "      <th>year</th>\n",
       "      <th>round</th>\n",
       "      <th>pick</th>\n",
       "      <th>player</th>\n",
       "      <th>position</th>\n",
       "      <th>school</th>\n",
       "    </tr>\n",
       "  </thead>\n",
       "  <tbody>\n",
       "    <tr>\n",
       "      <th>1296</th>\n",
       "      <td>2004</td>\n",
       "      <td>1</td>\n",
       "      <td>NaN</td>\n",
       "      <td>Forfeited Pick</td>\n",
       "      <td>None</td>\n",
       "      <td>None</td>\n",
       "    </tr>\n",
       "  </tbody>\n",
       "</table>\n",
       "</div>"
      ],
      "text/plain": [
       "      year  round  pick          player position school\n",
       "1296  2004      1   NaN  Forfeited Pick     None   None"
      ]
     },
     "execution_count": 5,
     "metadata": {},
     "output_type": "execute_result"
    }
   ],
   "source": [
    "# find the null rows\n",
    "nan_rows = draft_1989_2018_rough[draft_1989_2018_rough['pick'].isnull()]\n",
    "nan_rows"
   ]
  },
  {
   "cell_type": "code",
   "execution_count": 6,
   "metadata": {},
   "outputs": [
    {
     "data": {
      "text/plain": [
       "year        1744\n",
       "round       1744\n",
       "pick        1744\n",
       "player      1744\n",
       "position    1744\n",
       "school      1744\n",
       "dtype: int64"
      ]
     },
     "execution_count": 6,
     "metadata": {},
     "output_type": "execute_result"
    }
   ],
   "source": [
    "# drop the na row\n",
    "draft_1989_2018_dropNA = draft_1989_2018_rough.dropna()\n",
    "draft_1989_2018_dropNA.count()"
   ]
  },
  {
   "cell_type": "code",
   "execution_count": 7,
   "metadata": {},
   "outputs": [
    {
     "data": {
      "text/html": [
       "<div>\n",
       "<style scoped>\n",
       "    .dataframe tbody tr th:only-of-type {\n",
       "        vertical-align: middle;\n",
       "    }\n",
       "\n",
       "    .dataframe tbody tr th {\n",
       "        vertical-align: top;\n",
       "    }\n",
       "\n",
       "    .dataframe thead th {\n",
       "        text-align: right;\n",
       "    }\n",
       "</style>\n",
       "<table border=\"1\" class=\"dataframe\">\n",
       "  <thead>\n",
       "    <tr style=\"text-align: right;\">\n",
       "      <th></th>\n",
       "      <th>year</th>\n",
       "      <th>round</th>\n",
       "      <th>pick</th>\n",
       "      <th>player</th>\n",
       "      <th>position</th>\n",
       "      <th>school</th>\n",
       "    </tr>\n",
       "  </thead>\n",
       "  <tbody>\n",
       "    <tr>\n",
       "      <th>422</th>\n",
       "      <td>1989</td>\n",
       "      <td>1</td>\n",
       "      <td>1.0</td>\n",
       "      <td>Pervis Ellison</td>\n",
       "      <td>PF</td>\n",
       "      <td>Louisville</td>\n",
       "    </tr>\n",
       "    <tr>\n",
       "      <th>423</th>\n",
       "      <td>1989</td>\n",
       "      <td>1</td>\n",
       "      <td>2.0</td>\n",
       "      <td>Danny Ferry</td>\n",
       "      <td>PF</td>\n",
       "      <td>Duke</td>\n",
       "    </tr>\n",
       "    <tr>\n",
       "      <th>424</th>\n",
       "      <td>1989</td>\n",
       "      <td>1</td>\n",
       "      <td>3.0</td>\n",
       "      <td>Sean Elliott</td>\n",
       "      <td>SF/SG</td>\n",
       "      <td>Arizona</td>\n",
       "    </tr>\n",
       "    <tr>\n",
       "      <th>425</th>\n",
       "      <td>1989</td>\n",
       "      <td>1</td>\n",
       "      <td>4.0</td>\n",
       "      <td>Glen Rice</td>\n",
       "      <td>SF</td>\n",
       "      <td>Michigan</td>\n",
       "    </tr>\n",
       "    <tr>\n",
       "      <th>426</th>\n",
       "      <td>1989</td>\n",
       "      <td>1</td>\n",
       "      <td>5.0</td>\n",
       "      <td>J. R. Reid</td>\n",
       "      <td>PF/C</td>\n",
       "      <td>North Carolina</td>\n",
       "    </tr>\n",
       "  </tbody>\n",
       "</table>\n",
       "</div>"
      ],
      "text/plain": [
       "     year  round  pick          player position           school\n",
       "422  1989      1   1.0  Pervis Ellison       PF      Louisville \n",
       "423  1989      1   2.0     Danny Ferry       PF            Duke \n",
       "424  1989      1   3.0    Sean Elliott    SF/SG         Arizona \n",
       "425  1989      1   4.0       Glen Rice       SF        Michigan \n",
       "426  1989      1   5.0      J. R. Reid     PF/C  North Carolina "
      ]
     },
     "execution_count": 7,
     "metadata": {},
     "output_type": "execute_result"
    }
   ],
   "source": [
    "draft_1989_2018_dropNA.head()"
   ]
  },
  {
   "cell_type": "code",
   "execution_count": 8,
   "metadata": {},
   "outputs": [
    {
     "name": "stderr",
     "output_type": "stream",
     "text": [
      "/Users/yanxu/anaconda3/lib/python3.7/site-packages/ipykernel_launcher.py:2: SettingWithCopyWarning: \n",
      "A value is trying to be set on a copy of a slice from a DataFrame.\n",
      "Try using .loc[row_indexer,col_indexer] = value instead\n",
      "\n",
      "See the caveats in the documentation: http://pandas.pydata.org/pandas-docs/stable/indexing.html#indexing-view-versus-copy\n",
      "  \n"
     ]
    },
    {
     "data": {
      "text/html": [
       "<div>\n",
       "<style scoped>\n",
       "    .dataframe tbody tr th:only-of-type {\n",
       "        vertical-align: middle;\n",
       "    }\n",
       "\n",
       "    .dataframe tbody tr th {\n",
       "        vertical-align: top;\n",
       "    }\n",
       "\n",
       "    .dataframe thead th {\n",
       "        text-align: right;\n",
       "    }\n",
       "</style>\n",
       "<table border=\"1\" class=\"dataframe\">\n",
       "  <thead>\n",
       "    <tr style=\"text-align: right;\">\n",
       "      <th></th>\n",
       "      <th>year</th>\n",
       "      <th>round</th>\n",
       "      <th>pick</th>\n",
       "      <th>player</th>\n",
       "      <th>position</th>\n",
       "      <th>school</th>\n",
       "    </tr>\n",
       "  </thead>\n",
       "  <tbody>\n",
       "    <tr>\n",
       "      <th>422</th>\n",
       "      <td>1989</td>\n",
       "      <td>1</td>\n",
       "      <td>1</td>\n",
       "      <td>Pervis Ellison</td>\n",
       "      <td>PF</td>\n",
       "      <td>Louisville</td>\n",
       "    </tr>\n",
       "    <tr>\n",
       "      <th>423</th>\n",
       "      <td>1989</td>\n",
       "      <td>1</td>\n",
       "      <td>2</td>\n",
       "      <td>Danny Ferry</td>\n",
       "      <td>PF</td>\n",
       "      <td>Duke</td>\n",
       "    </tr>\n",
       "    <tr>\n",
       "      <th>424</th>\n",
       "      <td>1989</td>\n",
       "      <td>1</td>\n",
       "      <td>3</td>\n",
       "      <td>Sean Elliott</td>\n",
       "      <td>SF/SG</td>\n",
       "      <td>Arizona</td>\n",
       "    </tr>\n",
       "    <tr>\n",
       "      <th>425</th>\n",
       "      <td>1989</td>\n",
       "      <td>1</td>\n",
       "      <td>4</td>\n",
       "      <td>Glen Rice</td>\n",
       "      <td>SF</td>\n",
       "      <td>Michigan</td>\n",
       "    </tr>\n",
       "    <tr>\n",
       "      <th>426</th>\n",
       "      <td>1989</td>\n",
       "      <td>1</td>\n",
       "      <td>5</td>\n",
       "      <td>J. R. Reid</td>\n",
       "      <td>PF/C</td>\n",
       "      <td>North Carolina</td>\n",
       "    </tr>\n",
       "  </tbody>\n",
       "</table>\n",
       "</div>"
      ],
      "text/plain": [
       "     year  round  pick          player position           school\n",
       "422  1989      1     1  Pervis Ellison       PF      Louisville \n",
       "423  1989      1     2     Danny Ferry       PF            Duke \n",
       "424  1989      1     3    Sean Elliott    SF/SG         Arizona \n",
       "425  1989      1     4       Glen Rice       SF        Michigan \n",
       "426  1989      1     5      J. R. Reid     PF/C  North Carolina "
      ]
     },
     "execution_count": 8,
     "metadata": {},
     "output_type": "execute_result"
    }
   ],
   "source": [
    "# change the pick type from float to int because the pick # do not have decimal\n",
    "draft_1989_2018_dropNA[\"pick\"] = draft_1989_2018_dropNA[\"pick\"].astype('int64')\n",
    "\n",
    "draft_1989_2018_space = draft_1989_2018_dropNA\n",
    "draft_1989_2018_space.head()"
   ]
  },
  {
   "cell_type": "code",
   "execution_count": 9,
   "metadata": {},
   "outputs": [
    {
     "name": "stderr",
     "output_type": "stream",
     "text": [
      "/Users/yanxu/anaconda3/lib/python3.7/site-packages/ipykernel_launcher.py:2: SettingWithCopyWarning: \n",
      "A value is trying to be set on a copy of a slice from a DataFrame.\n",
      "Try using .loc[row_indexer,col_indexer] = value instead\n",
      "\n",
      "See the caveats in the documentation: http://pandas.pydata.org/pandas-docs/stable/indexing.html#indexing-view-versus-copy\n",
      "  \n"
     ]
    },
    {
     "data": {
      "text/plain": [
       "year         1744\n",
       "round        1744\n",
       "pick         1744\n",
       "player       1744\n",
       "position     1744\n",
       "school       1744\n",
       "firstName    1744\n",
       "lastName     1739\n",
       "dtype: int64"
      ]
     },
     "execution_count": 9,
     "metadata": {},
     "output_type": "execute_result"
    }
   ],
   "source": [
    "# split the name into \"firstName\" and \"lastName\"\n",
    "draft_1989_2018_space['firstName'], draft_1989_2018_space['lastName'] = draft_1989_2018_space['player'].str.split(' ', 1).str\n",
    "\n",
    "# and check the NA data to see whether the column \"player\" is successfully seperated\n",
    "draft_1989_2018_space.count()"
   ]
  },
  {
   "cell_type": "code",
   "execution_count": 10,
   "metadata": {},
   "outputs": [
    {
     "data": {
      "text/html": [
       "<div>\n",
       "<style scoped>\n",
       "    .dataframe tbody tr th:only-of-type {\n",
       "        vertical-align: middle;\n",
       "    }\n",
       "\n",
       "    .dataframe tbody tr th {\n",
       "        vertical-align: top;\n",
       "    }\n",
       "\n",
       "    .dataframe thead th {\n",
       "        text-align: right;\n",
       "    }\n",
       "</style>\n",
       "<table border=\"1\" class=\"dataframe\">\n",
       "  <thead>\n",
       "    <tr style=\"text-align: right;\">\n",
       "      <th></th>\n",
       "      <th>year</th>\n",
       "      <th>round</th>\n",
       "      <th>pick</th>\n",
       "      <th>player</th>\n",
       "      <th>position</th>\n",
       "      <th>school</th>\n",
       "      <th>firstName</th>\n",
       "      <th>lastName</th>\n",
       "    </tr>\n",
       "  </thead>\n",
       "  <tbody>\n",
       "    <tr>\n",
       "      <th>1023</th>\n",
       "      <td>1999</td>\n",
       "      <td>2</td>\n",
       "      <td>47</td>\n",
       "      <td>Macculloch</td>\n",
       "      <td>C</td>\n",
       "      <td>Washington</td>\n",
       "      <td>Macculloch</td>\n",
       "      <td>NaN</td>\n",
       "    </tr>\n",
       "    <tr>\n",
       "      <th>1045</th>\n",
       "      <td>2000</td>\n",
       "      <td>1</td>\n",
       "      <td>11</td>\n",
       "      <td>Moiso</td>\n",
       "      <td>PF</td>\n",
       "      <td>UCLA</td>\n",
       "      <td>Moiso</td>\n",
       "      <td>NaN</td>\n",
       "    </tr>\n",
       "    <tr>\n",
       "      <th>1050</th>\n",
       "      <td>2000</td>\n",
       "      <td>1</td>\n",
       "      <td>16</td>\n",
       "      <td>Turkoglu</td>\n",
       "      <td>SF/PF</td>\n",
       "      <td>Efes Pilsen</td>\n",
       "      <td>Turkoglu</td>\n",
       "      <td>NaN</td>\n",
       "    </tr>\n",
       "    <tr>\n",
       "      <th>1074</th>\n",
       "      <td>2000</td>\n",
       "      <td>2</td>\n",
       "      <td>40</td>\n",
       "      <td>Mottola</td>\n",
       "      <td>SF/PF</td>\n",
       "      <td>Utah</td>\n",
       "      <td>Mottola</td>\n",
       "      <td>NaN</td>\n",
       "    </tr>\n",
       "    <tr>\n",
       "      <th>1995</th>\n",
       "      <td>2016</td>\n",
       "      <td>1</td>\n",
       "      <td>9</td>\n",
       "      <td>Poeltl</td>\n",
       "      <td>C</td>\n",
       "      <td>Utah</td>\n",
       "      <td>Poeltl</td>\n",
       "      <td>NaN</td>\n",
       "    </tr>\n",
       "  </tbody>\n",
       "</table>\n",
       "</div>"
      ],
      "text/plain": [
       "      year  round  pick      player position       school   firstName lastName\n",
       "1023  1999      2    47  Macculloch        C   Washington  Macculloch      NaN\n",
       "1045  2000      1    11       Moiso       PF         UCLA       Moiso      NaN\n",
       "1050  2000      1    16    Turkoglu    SF/PF  Efes Pilsen    Turkoglu      NaN\n",
       "1074  2000      2    40     Mottola    SF/PF         Utah     Mottola      NaN\n",
       "1995  2016      1     9      Poeltl        C         Utah      Poeltl      NaN"
      ]
     },
     "execution_count": 10,
     "metadata": {},
     "output_type": "execute_result"
    }
   ],
   "source": [
    "# find the null rows\n",
    "nan_rows = draft_1989_2018_space[draft_1989_2018_space['lastName'].isnull()]\n",
    "nan_rows"
   ]
  },
  {
   "cell_type": "code",
   "execution_count": 11,
   "metadata": {},
   "outputs": [],
   "source": [
    "## google to find the missing lastName for each player\n",
    "draft_1989_2018_space.at[1023,\"lastName\"]= \"Todd\"\n",
    "draft_1989_2018_space.at[1045,\"lastName\"]= \"Jerome\"\n",
    "draft_1989_2018_space.at[1050,\"lastName\"]= \"Hedo\"\n",
    "draft_1989_2018_space.at[1074,\"lastName\"]= \"Hanno\"\n",
    "draft_1989_2018_space.at[1995,\"lastName\"]= \"Jakob\""
   ]
  },
  {
   "cell_type": "code",
   "execution_count": 12,
   "metadata": {},
   "outputs": [
    {
     "data": {
      "text/html": [
       "<div>\n",
       "<style scoped>\n",
       "    .dataframe tbody tr th:only-of-type {\n",
       "        vertical-align: middle;\n",
       "    }\n",
       "\n",
       "    .dataframe tbody tr th {\n",
       "        vertical-align: top;\n",
       "    }\n",
       "\n",
       "    .dataframe thead th {\n",
       "        text-align: right;\n",
       "    }\n",
       "</style>\n",
       "<table border=\"1\" class=\"dataframe\">\n",
       "  <thead>\n",
       "    <tr style=\"text-align: right;\">\n",
       "      <th></th>\n",
       "      <th>year</th>\n",
       "      <th>round</th>\n",
       "      <th>pick</th>\n",
       "      <th>player</th>\n",
       "      <th>position</th>\n",
       "      <th>school</th>\n",
       "      <th>firstName</th>\n",
       "      <th>lastName</th>\n",
       "    </tr>\n",
       "  </thead>\n",
       "  <tbody>\n",
       "  </tbody>\n",
       "</table>\n",
       "</div>"
      ],
      "text/plain": [
       "Empty DataFrame\n",
       "Columns: [year, round, pick, player, position, school, firstName, lastName]\n",
       "Index: []"
      ]
     },
     "execution_count": 12,
     "metadata": {},
     "output_type": "execute_result"
    }
   ],
   "source": [
    "# find the null rows\n",
    "nan_rows = draft_1989_2018_space[draft_1989_2018_space['lastName'].isnull()]\n",
    "nan_rows"
   ]
  },
  {
   "cell_type": "code",
   "execution_count": 13,
   "metadata": {},
   "outputs": [],
   "source": [
    "# continue clean the data- some firstName value has \",\" after name\n",
    "draft_1989_2018_comma = draft_1989_2018_space"
   ]
  },
  {
   "cell_type": "code",
   "execution_count": 14,
   "metadata": {},
   "outputs": [
    {
     "data": {
      "text/html": [
       "<div>\n",
       "<style scoped>\n",
       "    .dataframe tbody tr th:only-of-type {\n",
       "        vertical-align: middle;\n",
       "    }\n",
       "\n",
       "    .dataframe tbody tr th {\n",
       "        vertical-align: top;\n",
       "    }\n",
       "\n",
       "    .dataframe thead th {\n",
       "        text-align: right;\n",
       "    }\n",
       "</style>\n",
       "<table border=\"1\" class=\"dataframe\">\n",
       "  <thead>\n",
       "    <tr style=\"text-align: right;\">\n",
       "      <th></th>\n",
       "      <th>year</th>\n",
       "      <th>round</th>\n",
       "      <th>pick</th>\n",
       "      <th>player</th>\n",
       "      <th>position</th>\n",
       "      <th>school</th>\n",
       "      <th>firstName</th>\n",
       "      <th>lastName</th>\n",
       "    </tr>\n",
       "  </thead>\n",
       "  <tbody>\n",
       "    <tr>\n",
       "      <th>422</th>\n",
       "      <td>1989</td>\n",
       "      <td>1</td>\n",
       "      <td>1</td>\n",
       "      <td>Pervis Ellison</td>\n",
       "      <td>PF</td>\n",
       "      <td>Louisville</td>\n",
       "      <td>Pervis</td>\n",
       "      <td>Ellison</td>\n",
       "    </tr>\n",
       "    <tr>\n",
       "      <th>423</th>\n",
       "      <td>1989</td>\n",
       "      <td>1</td>\n",
       "      <td>2</td>\n",
       "      <td>Danny Ferry</td>\n",
       "      <td>PF</td>\n",
       "      <td>Duke</td>\n",
       "      <td>Danny</td>\n",
       "      <td>Ferry</td>\n",
       "    </tr>\n",
       "    <tr>\n",
       "      <th>424</th>\n",
       "      <td>1989</td>\n",
       "      <td>1</td>\n",
       "      <td>3</td>\n",
       "      <td>Sean Elliott</td>\n",
       "      <td>SF/SG</td>\n",
       "      <td>Arizona</td>\n",
       "      <td>Sean</td>\n",
       "      <td>Elliott</td>\n",
       "    </tr>\n",
       "    <tr>\n",
       "      <th>425</th>\n",
       "      <td>1989</td>\n",
       "      <td>1</td>\n",
       "      <td>4</td>\n",
       "      <td>Glen Rice</td>\n",
       "      <td>SF</td>\n",
       "      <td>Michigan</td>\n",
       "      <td>Glen</td>\n",
       "      <td>Rice</td>\n",
       "    </tr>\n",
       "    <tr>\n",
       "      <th>426</th>\n",
       "      <td>1989</td>\n",
       "      <td>1</td>\n",
       "      <td>5</td>\n",
       "      <td>J. R. Reid</td>\n",
       "      <td>PF/C</td>\n",
       "      <td>North Carolina</td>\n",
       "      <td>J.</td>\n",
       "      <td>R. Reid</td>\n",
       "    </tr>\n",
       "  </tbody>\n",
       "</table>\n",
       "</div>"
      ],
      "text/plain": [
       "     year  round  pick          player position           school firstName  \\\n",
       "422  1989      1     1  Pervis Ellison       PF      Louisville     Pervis   \n",
       "423  1989      1     2     Danny Ferry       PF            Duke      Danny   \n",
       "424  1989      1     3    Sean Elliott    SF/SG         Arizona       Sean   \n",
       "425  1989      1     4       Glen Rice       SF        Michigan       Glen   \n",
       "426  1989      1     5      J. R. Reid     PF/C  North Carolina         J.   \n",
       "\n",
       "    lastName  \n",
       "422  Ellison  \n",
       "423    Ferry  \n",
       "424  Elliott  \n",
       "425     Rice  \n",
       "426  R. Reid  "
      ]
     },
     "execution_count": 14,
     "metadata": {},
     "output_type": "execute_result"
    }
   ],
   "source": [
    "draft_1989_2018_comma.head()"
   ]
  },
  {
   "cell_type": "code",
   "execution_count": 15,
   "metadata": {},
   "outputs": [
    {
     "name": "stderr",
     "output_type": "stream",
     "text": [
      "/Users/yanxu/anaconda3/lib/python3.7/site-packages/ipykernel_launcher.py:2: SettingWithCopyWarning: \n",
      "A value is trying to be set on a copy of a slice from a DataFrame.\n",
      "Try using .loc[row_indexer,col_indexer] = value instead\n",
      "\n",
      "See the caveats in the documentation: http://pandas.pydata.org/pandas-docs/stable/indexing.html#indexing-view-versus-copy\n",
      "  \n"
     ]
    },
    {
     "data": {
      "text/plain": [
       "year         1744\n",
       "round        1744\n",
       "pick         1744\n",
       "player       1744\n",
       "position     1744\n",
       "school       1744\n",
       "firstName    1744\n",
       "lastName     1744\n",
       "dtype: int64"
      ]
     },
     "execution_count": 15,
     "metadata": {},
     "output_type": "execute_result"
    }
   ],
   "source": [
    "# split the name into \"firstName\" and \"lastName\"\n",
    "draft_1989_2018_comma['firstName'] = draft_1989_2018_comma['firstName'].str.replace(',', \"\")\n",
    "\n",
    "# and check the NA data to see whether the column \"player\" is successfully seperated\n",
    "draft_1989_2018_comma.count()"
   ]
  },
  {
   "cell_type": "code",
   "execution_count": 19,
   "metadata": {},
   "outputs": [],
   "source": [
    "# drop \"player\" column\n",
    "draft_1989_2018_comma1 = draft_1989_2018_comma.drop([\"player\"],axis=1)\n",
    "draft_1989_2018_comma2 = draft_1989_2018_comma1.reset_index()"
   ]
  },
  {
   "cell_type": "code",
   "execution_count": 21,
   "metadata": {},
   "outputs": [],
   "source": [
    "# drop \"index\" column\n",
    "draft_1989_2018_comma3 = draft_1989_2018_comma2.drop([\"index\"],axis=1)"
   ]
  },
  {
   "cell_type": "code",
   "execution_count": 27,
   "metadata": {},
   "outputs": [
    {
     "data": {
      "text/html": [
       "<div>\n",
       "<style scoped>\n",
       "    .dataframe tbody tr th:only-of-type {\n",
       "        vertical-align: middle;\n",
       "    }\n",
       "\n",
       "    .dataframe tbody tr th {\n",
       "        vertical-align: top;\n",
       "    }\n",
       "\n",
       "    .dataframe thead th {\n",
       "        text-align: right;\n",
       "    }\n",
       "</style>\n",
       "<table border=\"1\" class=\"dataframe\">\n",
       "  <thead>\n",
       "    <tr style=\"text-align: right;\">\n",
       "      <th></th>\n",
       "      <th>year</th>\n",
       "      <th>round</th>\n",
       "      <th>pick</th>\n",
       "      <th>position</th>\n",
       "      <th>school</th>\n",
       "      <th>firstName</th>\n",
       "      <th>lastName</th>\n",
       "    </tr>\n",
       "  </thead>\n",
       "  <tbody>\n",
       "    <tr>\n",
       "      <th>735</th>\n",
       "      <td>2002</td>\n",
       "      <td>1</td>\n",
       "      <td>7</td>\n",
       "      <td>C/PF</td>\n",
       "      <td>Vasco da Gama</td>\n",
       "      <td></td>\n",
       "      <td>Nenê</td>\n",
       "    </tr>\n",
       "    <tr>\n",
       "      <th>787</th>\n",
       "      <td>2003</td>\n",
       "      <td>1</td>\n",
       "      <td>1</td>\n",
       "      <td>SF</td>\n",
       "      <td>St. Vincent–St. Mary HS</td>\n",
       "      <td></td>\n",
       "      <td>LeBron James</td>\n",
       "    </tr>\n",
       "  </tbody>\n",
       "</table>\n",
       "</div>"
      ],
      "text/plain": [
       "     year  round  pick position                   school firstName  \\\n",
       "735  2002      1     7     C/PF            Vasco da Gama             \n",
       "787  2003      1     1       SF  St. Vincent–St. Mary HS             \n",
       "\n",
       "         lastName  \n",
       "735          Nenê  \n",
       "787  LeBron James  "
      ]
     },
     "execution_count": 27,
     "metadata": {},
     "output_type": "execute_result"
    }
   ],
   "source": [
    "# continue inspect the data if there is a blank (not Null) in cells\n",
    "draft_1989_2018_clean3.loc[draft_1989_2018_clean3[\"firstName\"]==\"\"]"
   ]
  },
  {
   "cell_type": "code",
   "execution_count": 28,
   "metadata": {},
   "outputs": [],
   "source": [
    "## google to find the missing firstName\n",
    "## insert the correct info for each player\n",
    "\n",
    "## the \"firstName\" in 735 could not be changed because he does not have firstName\n",
    "draft_1989_2018_clean3.at[787,\"firstName\"]= \"LeBron\"\n",
    "draft_1989_2018_clean3.at[787,\"lastName\"]= \"James\""
   ]
  },
  {
   "cell_type": "code",
   "execution_count": 29,
   "metadata": {},
   "outputs": [
    {
     "data": {
      "text/html": [
       "<div>\n",
       "<style scoped>\n",
       "    .dataframe tbody tr th:only-of-type {\n",
       "        vertical-align: middle;\n",
       "    }\n",
       "\n",
       "    .dataframe tbody tr th {\n",
       "        vertical-align: top;\n",
       "    }\n",
       "\n",
       "    .dataframe thead th {\n",
       "        text-align: right;\n",
       "    }\n",
       "</style>\n",
       "<table border=\"1\" class=\"dataframe\">\n",
       "  <thead>\n",
       "    <tr style=\"text-align: right;\">\n",
       "      <th></th>\n",
       "      <th>year</th>\n",
       "      <th>round</th>\n",
       "      <th>pick</th>\n",
       "      <th>position</th>\n",
       "      <th>school</th>\n",
       "      <th>firstName</th>\n",
       "      <th>lastName</th>\n",
       "    </tr>\n",
       "  </thead>\n",
       "  <tbody>\n",
       "    <tr>\n",
       "      <th>0</th>\n",
       "      <td>1989</td>\n",
       "      <td>1</td>\n",
       "      <td>1</td>\n",
       "      <td>PF</td>\n",
       "      <td>Louisville</td>\n",
       "      <td>Pervis</td>\n",
       "      <td>Ellison</td>\n",
       "    </tr>\n",
       "    <tr>\n",
       "      <th>1</th>\n",
       "      <td>1989</td>\n",
       "      <td>1</td>\n",
       "      <td>2</td>\n",
       "      <td>PF</td>\n",
       "      <td>Duke</td>\n",
       "      <td>Danny</td>\n",
       "      <td>Ferry</td>\n",
       "    </tr>\n",
       "    <tr>\n",
       "      <th>2</th>\n",
       "      <td>1989</td>\n",
       "      <td>1</td>\n",
       "      <td>3</td>\n",
       "      <td>SF/SG</td>\n",
       "      <td>Arizona</td>\n",
       "      <td>Sean</td>\n",
       "      <td>Elliott</td>\n",
       "    </tr>\n",
       "    <tr>\n",
       "      <th>3</th>\n",
       "      <td>1989</td>\n",
       "      <td>1</td>\n",
       "      <td>4</td>\n",
       "      <td>SF</td>\n",
       "      <td>Michigan</td>\n",
       "      <td>Glen</td>\n",
       "      <td>Rice</td>\n",
       "    </tr>\n",
       "    <tr>\n",
       "      <th>4</th>\n",
       "      <td>1989</td>\n",
       "      <td>1</td>\n",
       "      <td>5</td>\n",
       "      <td>PF/C</td>\n",
       "      <td>North Carolina</td>\n",
       "      <td>J.</td>\n",
       "      <td>R. Reid</td>\n",
       "    </tr>\n",
       "  </tbody>\n",
       "</table>\n",
       "</div>"
      ],
      "text/plain": [
       "   year  round  pick position           school firstName lastName\n",
       "0  1989      1     1       PF      Louisville     Pervis  Ellison\n",
       "1  1989      1     2       PF            Duke      Danny    Ferry\n",
       "2  1989      1     3    SF/SG         Arizona       Sean  Elliott\n",
       "3  1989      1     4       SF        Michigan       Glen     Rice\n",
       "4  1989      1     5     PF/C  North Carolina         J.  R. Reid"
      ]
     },
     "execution_count": 29,
     "metadata": {},
     "output_type": "execute_result"
    }
   ],
   "source": [
    "draft_1989_2018_clean3.head()"
   ]
  },
  {
   "cell_type": "code",
   "execution_count": 30,
   "metadata": {},
   "outputs": [],
   "source": [
    "draft_1989_2018_clean3.to_csv(\"draft_1989_2018.csv\")"
   ]
  },
  {
   "cell_type": "code",
   "execution_count": null,
   "metadata": {},
   "outputs": [],
   "source": []
  }
 ],
 "metadata": {
  "kernelspec": {
   "display_name": "Python 3",
   "language": "python",
   "name": "python3"
  },
  "language_info": {
   "codemirror_mode": {
    "name": "ipython",
    "version": 3
   },
   "file_extension": ".py",
   "mimetype": "text/x-python",
   "name": "python",
   "nbconvert_exporter": "python",
   "pygments_lexer": "ipython3",
   "version": "3.7.2"
  }
 },
 "nbformat": 4,
 "nbformat_minor": 2
}
