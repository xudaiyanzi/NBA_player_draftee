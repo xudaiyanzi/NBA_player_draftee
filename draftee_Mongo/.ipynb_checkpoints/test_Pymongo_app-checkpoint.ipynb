{
 "cells": [
  {
   "cell_type": "code",
   "execution_count": 4,
   "metadata": {},
   "outputs": [
    {
     "name": "stdout",
     "output_type": "stream",
     "text": [
      "{'_id': ObjectId('5c786be50cc6428c9512c95a'), 'Unnamed: 0': 787, 'year': 2003, 'round': 1, 'pick': 1, 'position': 'SF', 'school': 'St. Vincent–St. Mary HS', 'firstName': 'LeBron', 'lastName': 'James'}\n"
     ]
    }
   ],
   "source": [
    "import pymongo\n",
    "\n",
    "# Initialize PyMongo to work with MongoDBs\n",
    "conn = 'mongodb://localhost:27017'\n",
    "client = pymongo.MongoClient(conn)\n",
    "\n",
    "# Define database and collection\n",
    "db = client.draftee\n",
    "\n",
    "first_name = \"LeBron\"\n",
    "last_name = \"James\"\n",
    "\n",
    "# Find one record of data from the mongo database\n",
    "for x in db.collection.find({ \"firstName\": first_name,\n",
    "                             \"lastName\":last_name}):\n",
    "    print(x)"
   ]
  },
  {
   "cell_type": "code",
   "execution_count": 5,
   "metadata": {},
   "outputs": [
    {
     "name": "stdout",
     "output_type": "stream",
     "text": [
      "The draftee you are searching is LeBron James\n",
      "He was drated at the YEAR of 2003\n",
      "He was drated in the round 1\n",
      "His draft pick # was 1\n",
      "BTW, he was graduated from St. Vincent–St. Mary HS\n"
     ]
    }
   ],
   "source": [
    "   for x in db.collection.find({ \"firstName\": first_name,\"lastName\":last_name}):\n",
    "        print(\"The draftee you are searching is\", x[\"firstName\"], x[\"lastName\"]) \n",
    "        print(\"He was drated at the YEAR of\", x[\"year\"])\n",
    "        print(\"He was drated in the round\", x[\"round\"])\n",
    "        print(f\"His draft pick # was {x['pick']}\")\n",
    "        print(\"BTW, he was graduated from\", x[\"school\"])"
   ]
  },
  {
   "cell_type": "code",
   "execution_count": 6,
   "metadata": {},
   "outputs": [
    {
     "data": {
      "text/plain": [
       "{'name': \"The draft you like to know is ('LeBron', 'James')\",\n",
       " 'year': 'He was drated at 2003',\n",
       " 'round': 'He was drated in the round 1',\n",
       " 'pick': 'His draft pick was 1',\n",
       " 'school': 'BTW, he was graduated from St. Vincent–St. Mary HS'}"
      ]
     },
     "execution_count": 6,
     "metadata": {},
     "output_type": "execute_result"
    }
   ],
   "source": [
    "draftee_info = {}\n",
    "\n",
    "    # Return data\n",
    "for x in db.collection.find({ \"firstName\": first_name,\"lastName\":last_name}):\n",
    "    draftee_info[\"name\"] = f\"The draft you like to know is {x['firstName'], x['lastName']}\" \n",
    "    draftee_info[\"year\"] = f\"He was drated at {x['year']}\"\n",
    "    draftee_info[\"round\"] = f\"He was drated in the round {x['round']}\"\n",
    "    draftee_info[\"pick\"] = f\"His draft pick was {x['pick']}\"\n",
    "    draftee_info[\"school\"] = f\"BTW, he was graduated from {x['school']}\"\n",
    "        \n",
    "draftee_info"
   ]
  },
  {
   "cell_type": "code",
   "execution_count": null,
   "metadata": {},
   "outputs": [],
   "source": []
  }
 ],
 "metadata": {
  "kernelspec": {
   "display_name": "Python 3",
   "language": "python",
   "name": "python3"
  },
  "language_info": {
   "codemirror_mode": {
    "name": "ipython",
    "version": 3
   },
   "file_extension": ".py",
   "mimetype": "text/x-python",
   "name": "python",
   "nbconvert_exporter": "python",
   "pygments_lexer": "ipython3",
   "version": "3.7.2"
  }
 },
 "nbformat": 4,
 "nbformat_minor": 2
}
