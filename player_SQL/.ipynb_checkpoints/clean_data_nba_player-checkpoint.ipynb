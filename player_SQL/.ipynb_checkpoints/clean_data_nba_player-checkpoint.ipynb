{
 "cells": [
  {
   "cell_type": "markdown",
   "metadata": {},
   "source": [
    "## The purpose: use BeautifulSoup,splinter, and pandas to scape the info from www.nba.com\n",
    "\n",
    "## and then, I cleaned the data in pandas and save it as \".csv\""
   ]
  },
  {
   "cell_type": "code",
   "execution_count": 1,
   "metadata": {},
   "outputs": [],
   "source": [
    "# Dependencies\n",
    "from bs4 import BeautifulSoup\n",
    "import requests"
   ]
  },
  {
   "cell_type": "code",
   "execution_count": 2,
   "metadata": {},
   "outputs": [],
   "source": [
    "import pandas as pd"
   ]
  },
  {
   "cell_type": "code",
   "execution_count": 3,
   "metadata": {},
   "outputs": [],
   "source": [
    "from splinter import Browser\n",
    "from splinter.exceptions import ElementDoesNotExist"
   ]
  },
  {
   "cell_type": "code",
   "execution_count": 4,
   "metadata": {},
   "outputs": [],
   "source": [
    "# https://splinter.readthedocs.io/en/latest/drivers/chrome.html\n",
    "!which chromedriver"
   ]
  },
  {
   "cell_type": "code",
   "execution_count": 5,
   "metadata": {},
   "outputs": [],
   "source": [
    "executable_path = {'executable_path': '/usr/local/bin/chromedriver'}\n",
    "browser = Browser('chrome', **executable_path, headless=False)"
   ]
  },
  {
   "cell_type": "code",
   "execution_count": 6,
   "metadata": {
    "collapsed": true
   },
   "outputs": [],
   "source": [
    "# URL of page to be scraped\n",
    "url = 'http://www.nba.com/players'\n",
    "browser.visit(url)"
   ]
  },
  {
   "cell_type": "code",
   "execution_count": 7,
   "metadata": {},
   "outputs": [],
   "source": [
    "# Retrieve page with the requests module\n",
    "######## not use \"response = requests.get(url)\"\"\n",
    "# but use this below\n",
    "html = browser.html\n",
    "\n",
    "# Create BeautifulSoup object; parse with 'html.parser'\n",
    "######## similar to requests - use \"soup = BeautifulSoup(response.text, 'html.parser')\"\"\n",
    "\n",
    "soup = BeautifulSoup(html, 'html.parser')"
   ]
  },
  {
   "cell_type": "code",
   "execution_count": 8,
   "metadata": {},
   "outputs": [],
   "source": [
    "# Examine the results, then determine element that contains sought info\n",
    "#print(soup.prettify())"
   ]
  },
  {
   "cell_type": "code",
   "execution_count": 8,
   "metadata": {},
   "outputs": [],
   "source": [
    "# results are returned as an iterable list\n",
    "results = soup.find_all('a', class_='playerList')"
   ]
  },
  {
   "cell_type": "code",
   "execution_count": 9,
   "metadata": {},
   "outputs": [
    {
     "data": {
      "text/plain": [
       "490"
      ]
     },
     "execution_count": 9,
     "metadata": {},
     "output_type": "execute_result"
    }
   ],
   "source": [
    "# count the final results \n",
    "len(results)"
   ]
  },
  {
   "cell_type": "code",
   "execution_count": 10,
   "metadata": {
    "collapsed": true
   },
   "outputs": [],
   "source": [
    "# save the scraped data into lists\n",
    "headshot_src_list = []\n",
    "name_list = []\n",
    "number_in_team_list = []\n",
    "position_list = []\n",
    "team_list = []\n",
    "\n",
    "for result in results:\n",
    "    ### pay attention to all the path way to reach the target value\n",
    "    headshot_src_short = result.find('img')['data-src']\n",
    "    headshot_src = 'http:' + headshot_src_short\n",
    "    headshot_src_list.append(headshot_src)\n",
    "    #print(headshot_src_list)\n",
    "    \n",
    "    name = result.find('span', class_='name-label').text\n",
    "    name_list.append(name)\n",
    "    #print(name_list)\n",
    "    \n",
    "    number_in_team = result.p.find_all('span')[0].text\n",
    "    number_in_team_list.append(number_in_team)\n",
    "    #print(number_in_team_list)\n",
    "        \n",
    "    position = result.p.find_all('span')[1].text\n",
    "    position_list.append(position)\n",
    "    #print(position_list)\n",
    "    \n",
    "    team = result.p.find_all('span')[2].text\n",
    "    team_list.append(team)"
   ]
  },
  {
   "cell_type": "code",
   "execution_count": 25,
   "metadata": {
    "collapsed": true
   },
   "outputs": [],
   "source": [
    "# save all the lists as a dataframe\n",
    "recent_player_comma = pd.DataFrame({'name':name_list,\\\n",
    "                           'number_in_team':number_in_team_list,\\\n",
    "                           'team':team_list,\\\n",
    "                           'headshot_src':headshot_src_list})"
   ]
  },
  {
   "cell_type": "code",
   "execution_count": 26,
   "metadata": {},
   "outputs": [
    {
     "data": {
      "text/html": [
       "<div>\n",
       "<style scoped>\n",
       "    .dataframe tbody tr th:only-of-type {\n",
       "        vertical-align: middle;\n",
       "    }\n",
       "\n",
       "    .dataframe tbody tr th {\n",
       "        vertical-align: top;\n",
       "    }\n",
       "\n",
       "    .dataframe thead th {\n",
       "        text-align: right;\n",
       "    }\n",
       "</style>\n",
       "<table border=\"1\" class=\"dataframe\">\n",
       "  <thead>\n",
       "    <tr style=\"text-align: right;\">\n",
       "      <th></th>\n",
       "      <th>name</th>\n",
       "      <th>number_in_team</th>\n",
       "      <th>team</th>\n",
       "      <th>headshot_src</th>\n",
       "    </tr>\n",
       "  </thead>\n",
       "  <tbody>\n",
       "    <tr>\n",
       "      <th>0</th>\n",
       "      <td>Adams, Jaylen</td>\n",
       "      <td>#10</td>\n",
       "      <td>Hawks</td>\n",
       "      <td>http://ak-static.cms.nba.com/wp-content/upload...</td>\n",
       "    </tr>\n",
       "    <tr>\n",
       "      <th>1</th>\n",
       "      <td>Adams, Steven</td>\n",
       "      <td>#12</td>\n",
       "      <td>Thunder</td>\n",
       "      <td>http://ak-static.cms.nba.com/wp-content/upload...</td>\n",
       "    </tr>\n",
       "    <tr>\n",
       "      <th>2</th>\n",
       "      <td>Adebayo, Bam</td>\n",
       "      <td>#13</td>\n",
       "      <td>Heat</td>\n",
       "      <td>http://ak-static.cms.nba.com/wp-content/upload...</td>\n",
       "    </tr>\n",
       "    <tr>\n",
       "      <th>3</th>\n",
       "      <td>Adel, Deng</td>\n",
       "      <td>#32</td>\n",
       "      <td>Cavaliers</td>\n",
       "      <td>http://ak-static.cms.nba.com/wp-content/upload...</td>\n",
       "    </tr>\n",
       "    <tr>\n",
       "      <th>4</th>\n",
       "      <td>Aldridge, LaMarcus</td>\n",
       "      <td>#12</td>\n",
       "      <td>Spurs</td>\n",
       "      <td>http://ak-static.cms.nba.com/wp-content/upload...</td>\n",
       "    </tr>\n",
       "  </tbody>\n",
       "</table>\n",
       "</div>"
      ],
      "text/plain": [
       "                 name number_in_team       team  \\\n",
       "0       Adams, Jaylen            #10      Hawks   \n",
       "1       Adams, Steven            #12    Thunder   \n",
       "2        Adebayo, Bam            #13       Heat   \n",
       "3          Adel, Deng            #32  Cavaliers   \n",
       "4  Aldridge, LaMarcus            #12      Spurs   \n",
       "\n",
       "                                        headshot_src  \n",
       "0  http://ak-static.cms.nba.com/wp-content/upload...  \n",
       "1  http://ak-static.cms.nba.com/wp-content/upload...  \n",
       "2  http://ak-static.cms.nba.com/wp-content/upload...  \n",
       "3  http://ak-static.cms.nba.com/wp-content/upload...  \n",
       "4  http://ak-static.cms.nba.com/wp-content/upload...  "
      ]
     },
     "execution_count": 26,
     "metadata": {},
     "output_type": "execute_result"
    }
   ],
   "source": [
    "recent_player_comma.head()"
   ]
  },
  {
   "cell_type": "code",
   "execution_count": 27,
   "metadata": {},
   "outputs": [],
   "source": [
    "recent_player_comma['number_in_team'] = recent_player_comma['number_in_team'].str.replace('\\#', '')"
   ]
  },
  {
   "cell_type": "code",
   "execution_count": 28,
   "metadata": {},
   "outputs": [
    {
     "data": {
      "text/html": [
       "<div>\n",
       "<style scoped>\n",
       "    .dataframe tbody tr th:only-of-type {\n",
       "        vertical-align: middle;\n",
       "    }\n",
       "\n",
       "    .dataframe tbody tr th {\n",
       "        vertical-align: top;\n",
       "    }\n",
       "\n",
       "    .dataframe thead th {\n",
       "        text-align: right;\n",
       "    }\n",
       "</style>\n",
       "<table border=\"1\" class=\"dataframe\">\n",
       "  <thead>\n",
       "    <tr style=\"text-align: right;\">\n",
       "      <th></th>\n",
       "      <th>name</th>\n",
       "      <th>number_in_team</th>\n",
       "      <th>team</th>\n",
       "      <th>headshot_src</th>\n",
       "    </tr>\n",
       "  </thead>\n",
       "  <tbody>\n",
       "    <tr>\n",
       "      <th>0</th>\n",
       "      <td>Adams, Jaylen</td>\n",
       "      <td>10</td>\n",
       "      <td>Hawks</td>\n",
       "      <td>http://ak-static.cms.nba.com/wp-content/upload...</td>\n",
       "    </tr>\n",
       "    <tr>\n",
       "      <th>1</th>\n",
       "      <td>Adams, Steven</td>\n",
       "      <td>12</td>\n",
       "      <td>Thunder</td>\n",
       "      <td>http://ak-static.cms.nba.com/wp-content/upload...</td>\n",
       "    </tr>\n",
       "    <tr>\n",
       "      <th>2</th>\n",
       "      <td>Adebayo, Bam</td>\n",
       "      <td>13</td>\n",
       "      <td>Heat</td>\n",
       "      <td>http://ak-static.cms.nba.com/wp-content/upload...</td>\n",
       "    </tr>\n",
       "    <tr>\n",
       "      <th>3</th>\n",
       "      <td>Adel, Deng</td>\n",
       "      <td>32</td>\n",
       "      <td>Cavaliers</td>\n",
       "      <td>http://ak-static.cms.nba.com/wp-content/upload...</td>\n",
       "    </tr>\n",
       "    <tr>\n",
       "      <th>4</th>\n",
       "      <td>Aldridge, LaMarcus</td>\n",
       "      <td>12</td>\n",
       "      <td>Spurs</td>\n",
       "      <td>http://ak-static.cms.nba.com/wp-content/upload...</td>\n",
       "    </tr>\n",
       "  </tbody>\n",
       "</table>\n",
       "</div>"
      ],
      "text/plain": [
       "                 name number_in_team       team  \\\n",
       "0       Adams, Jaylen             10      Hawks   \n",
       "1       Adams, Steven             12    Thunder   \n",
       "2        Adebayo, Bam             13       Heat   \n",
       "3          Adel, Deng             32  Cavaliers   \n",
       "4  Aldridge, LaMarcus             12      Spurs   \n",
       "\n",
       "                                        headshot_src  \n",
       "0  http://ak-static.cms.nba.com/wp-content/upload...  \n",
       "1  http://ak-static.cms.nba.com/wp-content/upload...  \n",
       "2  http://ak-static.cms.nba.com/wp-content/upload...  \n",
       "3  http://ak-static.cms.nba.com/wp-content/upload...  \n",
       "4  http://ak-static.cms.nba.com/wp-content/upload...  "
      ]
     },
     "execution_count": 28,
     "metadata": {},
     "output_type": "execute_result"
    }
   ],
   "source": [
    "recent_player_comma.head()"
   ]
  },
  {
   "cell_type": "code",
   "execution_count": 29,
   "metadata": {},
   "outputs": [],
   "source": [
    "# new data frame with split value columns \n",
    "#new = recent_player_comma[\"name\"].str.split(\",\",1, expand = True) \n",
    "\n",
    "recent_player_comma['lastName'], recent_player_comma['firstName'] = recent_player_comma['name'].str.split(',', 1).str"
   ]
  },
  {
   "cell_type": "code",
   "execution_count": 30,
   "metadata": {},
   "outputs": [
    {
     "data": {
      "text/html": [
       "<div>\n",
       "<style scoped>\n",
       "    .dataframe tbody tr th:only-of-type {\n",
       "        vertical-align: middle;\n",
       "    }\n",
       "\n",
       "    .dataframe tbody tr th {\n",
       "        vertical-align: top;\n",
       "    }\n",
       "\n",
       "    .dataframe thead th {\n",
       "        text-align: right;\n",
       "    }\n",
       "</style>\n",
       "<table border=\"1\" class=\"dataframe\">\n",
       "  <thead>\n",
       "    <tr style=\"text-align: right;\">\n",
       "      <th></th>\n",
       "      <th>name</th>\n",
       "      <th>number_in_team</th>\n",
       "      <th>team</th>\n",
       "      <th>headshot_src</th>\n",
       "      <th>lastName</th>\n",
       "      <th>firstName</th>\n",
       "    </tr>\n",
       "  </thead>\n",
       "  <tbody>\n",
       "    <tr>\n",
       "      <th>0</th>\n",
       "      <td>Adams, Jaylen</td>\n",
       "      <td>10</td>\n",
       "      <td>Hawks</td>\n",
       "      <td>http://ak-static.cms.nba.com/wp-content/upload...</td>\n",
       "      <td>Adams</td>\n",
       "      <td>Jaylen</td>\n",
       "    </tr>\n",
       "    <tr>\n",
       "      <th>1</th>\n",
       "      <td>Adams, Steven</td>\n",
       "      <td>12</td>\n",
       "      <td>Thunder</td>\n",
       "      <td>http://ak-static.cms.nba.com/wp-content/upload...</td>\n",
       "      <td>Adams</td>\n",
       "      <td>Steven</td>\n",
       "    </tr>\n",
       "    <tr>\n",
       "      <th>2</th>\n",
       "      <td>Adebayo, Bam</td>\n",
       "      <td>13</td>\n",
       "      <td>Heat</td>\n",
       "      <td>http://ak-static.cms.nba.com/wp-content/upload...</td>\n",
       "      <td>Adebayo</td>\n",
       "      <td>Bam</td>\n",
       "    </tr>\n",
       "    <tr>\n",
       "      <th>3</th>\n",
       "      <td>Adel, Deng</td>\n",
       "      <td>32</td>\n",
       "      <td>Cavaliers</td>\n",
       "      <td>http://ak-static.cms.nba.com/wp-content/upload...</td>\n",
       "      <td>Adel</td>\n",
       "      <td>Deng</td>\n",
       "    </tr>\n",
       "    <tr>\n",
       "      <th>4</th>\n",
       "      <td>Aldridge, LaMarcus</td>\n",
       "      <td>12</td>\n",
       "      <td>Spurs</td>\n",
       "      <td>http://ak-static.cms.nba.com/wp-content/upload...</td>\n",
       "      <td>Aldridge</td>\n",
       "      <td>LaMarcus</td>\n",
       "    </tr>\n",
       "  </tbody>\n",
       "</table>\n",
       "</div>"
      ],
      "text/plain": [
       "                 name number_in_team       team  \\\n",
       "0       Adams, Jaylen             10      Hawks   \n",
       "1       Adams, Steven             12    Thunder   \n",
       "2        Adebayo, Bam             13       Heat   \n",
       "3          Adel, Deng             32  Cavaliers   \n",
       "4  Aldridge, LaMarcus             12      Spurs   \n",
       "\n",
       "                                        headshot_src  lastName  firstName  \n",
       "0  http://ak-static.cms.nba.com/wp-content/upload...     Adams     Jaylen  \n",
       "1  http://ak-static.cms.nba.com/wp-content/upload...     Adams     Steven  \n",
       "2  http://ak-static.cms.nba.com/wp-content/upload...   Adebayo        Bam  \n",
       "3  http://ak-static.cms.nba.com/wp-content/upload...      Adel       Deng  \n",
       "4  http://ak-static.cms.nba.com/wp-content/upload...  Aldridge   LaMarcus  "
      ]
     },
     "execution_count": 30,
     "metadata": {},
     "output_type": "execute_result"
    }
   ],
   "source": [
    "recent_player_comma.head()"
   ]
  },
  {
   "cell_type": "code",
   "execution_count": 21,
   "metadata": {},
   "outputs": [],
   "source": [
    "# Dropping old Name columns \n",
    "recent_player = recent_player_comma.drop(columns =[\"name\"], inplace = True) "
   ]
  },
  {
   "cell_type": "code",
   "execution_count": 22,
   "metadata": {},
   "outputs": [
    {
     "ename": "AttributeError",
     "evalue": "'NoneType' object has no attribute 'head'",
     "output_type": "error",
     "traceback": [
      "\u001b[0;31m---------------------------------------------------------------------------\u001b[0m",
      "\u001b[0;31mAttributeError\u001b[0m                            Traceback (most recent call last)",
      "\u001b[0;32m<ipython-input-22-ebbdd81824ec>\u001b[0m in \u001b[0;36m<module>\u001b[0;34m()\u001b[0m\n\u001b[0;32m----> 1\u001b[0;31m \u001b[0mrecent_player\u001b[0m\u001b[0;34m.\u001b[0m\u001b[0mhead\u001b[0m\u001b[0;34m(\u001b[0m\u001b[0;34m)\u001b[0m\u001b[0;34m\u001b[0m\u001b[0;34m\u001b[0m\u001b[0m\n\u001b[0m",
      "\u001b[0;31mAttributeError\u001b[0m: 'NoneType' object has no attribute 'head'"
     ]
    }
   ],
   "source": [
    "recent_player.head()"
   ]
  },
  {
   "cell_type": "code",
   "execution_count": null,
   "metadata": {},
   "outputs": [],
   "source": [
    "recent_player.to_csv(\"recent_players.csv\")"
   ]
  }
 ],
 "metadata": {
  "kernelspec": {
   "display_name": "Python 3",
   "language": "python",
   "name": "python3"
  },
  "language_info": {
   "codemirror_mode": {
    "name": "ipython",
    "version": 3
   },
   "file_extension": ".py",
   "mimetype": "text/x-python",
   "name": "python",
   "nbconvert_exporter": "python",
   "pygments_lexer": "ipython3",
   "version": "3.7.2"
  },
  "varInspector": {
   "cols": {
    "lenName": 16,
    "lenType": 16,
    "lenVar": 40
   },
   "kernels_config": {
    "python": {
     "delete_cmd_postfix": "",
     "delete_cmd_prefix": "del ",
     "library": "var_list.py",
     "varRefreshCmd": "print(var_dic_list())"
    },
    "r": {
     "delete_cmd_postfix": ") ",
     "delete_cmd_prefix": "rm(",
     "library": "var_list.r",
     "varRefreshCmd": "cat(var_dic_list()) "
    }
   },
   "types_to_exclude": [
    "module",
    "function",
    "builtin_function_or_method",
    "instance",
    "_Feature"
   ],
   "window_display": false
  }
 },
 "nbformat": 4,
 "nbformat_minor": 2
}
